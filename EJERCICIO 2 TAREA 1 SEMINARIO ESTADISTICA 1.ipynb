{
 "cells": [
  {
   "cell_type": "markdown",
   "id": "c740eb17",
   "metadata": {},
   "source": [
    "### EJERCICIO 2:\n",
    "#### Obtener el error estandar de la correlacion y mostrar para que N la precisión con respecto a la correlación de la muestra total es mejor. De la base data_schools obtener el error estándar con Bootstrap de las correlacion de las variables de la base. \n",
    "##### - Recordemos que tienen que simular N Muestras Boostrap con tamño n=15.\n",
    "##### - Grafique los histogramas de las correlaciones\n",
    "##### - Grafique el  histograma pero sobre una muestra bostrap considerando la muestra completa"
   ]
  },
  {
   "cell_type": "code",
   "execution_count": 81,
   "id": "bb04d2d1",
   "metadata": {},
   "outputs": [],
   "source": [
    "#Importamos las librerias a utilizar\n",
    "import pandas as pd\n",
    "import os\n",
    "from scipy.stats import spearmanr\n",
    "import numpy as np\n",
    "import matplotlib.pyplot as plt"
   ]
  },
  {
   "cell_type": "markdown",
   "id": "1beec1cd",
   "metadata": {},
   "source": [
    "Ahora, establecemos la ruta donde tenemos nuestras bases"
   ]
  },
  {
   "cell_type": "code",
   "execution_count": 82,
   "id": "7d0be7e6",
   "metadata": {},
   "outputs": [],
   "source": [
    "# Antes que nada obtenemos el directorio en el que estamos trabajando\n",
    "os.getcwd()\n",
    "# como no es el directorio en donde tenemos guardados los archivos, procedemos a actualizar\n",
    "os.chdir(\"/Users/alexe/OneDrive/Escritorio/Titulacion/SeminarioEstadisticaI/Tarea1/\")"
   ]
  },
  {
   "cell_type": "markdown",
   "id": "8d084082",
   "metadata": {},
   "source": [
    "Leemos el archivo \"data_schools.xlsx\" "
   ]
  },
  {
   "cell_type": "code",
   "execution_count": 83,
   "id": "5a7037f2",
   "metadata": {},
   "outputs": [
    {
     "data": {
      "text/html": [
       "<div>\n",
       "<style scoped>\n",
       "    .dataframe tbody tr th:only-of-type {\n",
       "        vertical-align: middle;\n",
       "    }\n",
       "\n",
       "    .dataframe tbody tr th {\n",
       "        vertical-align: top;\n",
       "    }\n",
       "\n",
       "    .dataframe thead th {\n",
       "        text-align: right;\n",
       "    }\n",
       "</style>\n",
       "<table border=\"1\" class=\"dataframe\">\n",
       "  <thead>\n",
       "    <tr style=\"text-align: right;\">\n",
       "      <th></th>\n",
       "      <th>escuela</th>\n",
       "      <th>LSAT</th>\n",
       "      <th>GPA</th>\n",
       "    </tr>\n",
       "  </thead>\n",
       "  <tbody>\n",
       "    <tr>\n",
       "      <th>0</th>\n",
       "      <td>1</td>\n",
       "      <td>622</td>\n",
       "      <td>3.23</td>\n",
       "    </tr>\n",
       "    <tr>\n",
       "      <th>1</th>\n",
       "      <td>2</td>\n",
       "      <td>542</td>\n",
       "      <td>2.83</td>\n",
       "    </tr>\n",
       "    <tr>\n",
       "      <th>2</th>\n",
       "      <td>3</td>\n",
       "      <td>579</td>\n",
       "      <td>3.24</td>\n",
       "    </tr>\n",
       "    <tr>\n",
       "      <th>3</th>\n",
       "      <td>4</td>\n",
       "      <td>653</td>\n",
       "      <td>3.12</td>\n",
       "    </tr>\n",
       "    <tr>\n",
       "      <th>4</th>\n",
       "      <td>5</td>\n",
       "      <td>606</td>\n",
       "      <td>3.09</td>\n",
       "    </tr>\n",
       "    <tr>\n",
       "      <th>...</th>\n",
       "      <td>...</td>\n",
       "      <td>...</td>\n",
       "      <td>...</td>\n",
       "    </tr>\n",
       "    <tr>\n",
       "      <th>77</th>\n",
       "      <td>78</td>\n",
       "      <td>590</td>\n",
       "      <td>3.15</td>\n",
       "    </tr>\n",
       "    <tr>\n",
       "      <th>78</th>\n",
       "      <td>79</td>\n",
       "      <td>558</td>\n",
       "      <td>2.81</td>\n",
       "    </tr>\n",
       "    <tr>\n",
       "      <th>79</th>\n",
       "      <td>80</td>\n",
       "      <td>611</td>\n",
       "      <td>3.16</td>\n",
       "    </tr>\n",
       "    <tr>\n",
       "      <th>80</th>\n",
       "      <td>81</td>\n",
       "      <td>564</td>\n",
       "      <td>3.02</td>\n",
       "    </tr>\n",
       "    <tr>\n",
       "      <th>81</th>\n",
       "      <td>82</td>\n",
       "      <td>575</td>\n",
       "      <td>2.74</td>\n",
       "    </tr>\n",
       "  </tbody>\n",
       "</table>\n",
       "<p>82 rows × 3 columns</p>\n",
       "</div>"
      ],
      "text/plain": [
       "    escuela  LSAT   GPA\n",
       "0         1   622  3.23\n",
       "1         2   542  2.83\n",
       "2         3   579  3.24\n",
       "3         4   653  3.12\n",
       "4         5   606  3.09\n",
       "..      ...   ...   ...\n",
       "77       78   590  3.15\n",
       "78       79   558  2.81\n",
       "79       80   611  3.16\n",
       "80       81   564  3.02\n",
       "81       82   575  2.74\n",
       "\n",
       "[82 rows x 3 columns]"
      ]
     },
     "execution_count": 83,
     "metadata": {},
     "output_type": "execute_result"
    }
   ],
   "source": [
    "escuelas=pd.read_excel(\"data_schools.xlsx\")\n",
    "escuelas"
   ]
  },
  {
   "cell_type": "code",
   "execution_count": 84,
   "id": "44441e6c",
   "metadata": {},
   "outputs": [
    {
     "name": "stdout",
     "output_type": "stream",
     "text": [
      "<class 'pandas.core.frame.DataFrame'>\n",
      "RangeIndex: 82 entries, 0 to 81\n",
      "Data columns (total 3 columns):\n",
      " #   Column   Non-Null Count  Dtype  \n",
      "---  ------   --------------  -----  \n",
      " 0   escuela  82 non-null     int64  \n",
      " 1   LSAT     82 non-null     int64  \n",
      " 2   GPA      82 non-null     float64\n",
      "dtypes: float64(1), int64(2)\n",
      "memory usage: 2.0 KB\n"
     ]
    }
   ],
   "source": [
    "escuelas.info()"
   ]
  },
  {
   "cell_type": "markdown",
   "id": "bbb5b779",
   "metadata": {},
   "source": [
    "Ahora, calcularemos la correlacion entre las variables de la base completa."
   ]
  },
  {
   "cell_type": "code",
   "execution_count": 85,
   "id": "f821fcae",
   "metadata": {},
   "outputs": [
    {
     "name": "stdout",
     "output_type": "stream",
     "text": [
      "Spearmans correlation: 0.753\n"
     ]
    }
   ],
   "source": [
    "corr, _ = spearmanr(escuelas.LSAT, escuelas.GPA)\n",
    "print('Spearmans correlation: %.3f' % corr)"
   ]
  },
  {
   "cell_type": "code",
   "execution_count": 86,
   "id": "2e1cbe30",
   "metadata": {},
   "outputs": [],
   "source": [
    "# Creamos un vector de 3200 0's esto es debido a que se recomienda un total de 3200 simulaciones\n",
    "vector = np.zeros(3200)"
   ]
  },
  {
   "cell_type": "code",
   "execution_count": 87,
   "id": "9bce4c56",
   "metadata": {},
   "outputs": [],
   "source": [
    "#creamos el cilclo for para el llenado de las 3200 correlaciones a calcular\n",
    "for i in range(3200):\n",
    "#Seleccionamos aleatoriamente 15 escuelas\n",
    "    muestraboot = escuelas.sample(n=15,replace=True)[[\"escuela\"]]\n",
    "# unimos la base completa con el vector aleatorio de escuelas mediante un inner para que solo nos devuelva\n",
    "# la tabla interseccion, es decir, solo los valores seleccionados en la muestra aleatoria.\n",
    "    muestraboot = pd.merge(muestraboot, escuelas, how='inner', on=[\"escuela\"], sort=True)\n",
    "#calculamos la correlacion entre las variables de la muestra \n",
    "    aux, _ = spearmanr(muestraboot.LSAT, muestraboot.GPA)\n",
    "# y la guardamos en nuestro vector de correlaciones\n",
    "    vector[i]=aux"
   ]
  },
  {
   "cell_type": "code",
   "execution_count": 88,
   "id": "9f7e0baa",
   "metadata": {},
   "outputs": [
    {
     "data": {
      "text/plain": [
       "(array([  1.,   0.,   0.,   0.,   1.,   4.,   4.,  10.,  28.,  55., 102.,\n",
       "        201., 316., 470., 742., 707., 465.,  94.]),\n",
       " array([-0.18962433, -0.12492298, -0.06022163,  0.00447973,  0.06918108,\n",
       "         0.13388243,  0.19858378,  0.26328513,  0.32798648,  0.39268784,\n",
       "         0.45738919,  0.52209054,  0.58679189,  0.65149324,  0.71619459,\n",
       "         0.78089595,  0.8455973 ,  0.91029865,  0.975     ]),\n",
       " <BarContainer object of 18 artists>)"
      ]
     },
     "execution_count": 88,
     "metadata": {},
     "output_type": "execute_result"
    },
    {
     "data": {
      "image/png": "[encoded data removed]",
      "text/plain": [
       "<Figure size 432x288 with 1 Axes>"
      ]
     },
     "metadata": {
      "needs_background": "light"
     },
     "output_type": "display_data"
    }
   ],
   "source": [
    "#Graficamos las correlaciones obtenidas a traves del metodo bootstrap\n",
    "plt.hist(vector,18,ec=\"black\")"
   ]
  },
  {
   "cell_type": "code",
   "execution_count": 89,
   "id": "322e3945",
   "metadata": {},
   "outputs": [
    {
     "data": {
      "text/plain": [
       "0.7329346154834994"
      ]
     },
     "execution_count": 89,
     "metadata": {},
     "output_type": "execute_result"
    }
   ],
   "source": [
    "# Pero, Cual es la media de las simulaciones?\n",
    "media3200 = np.mean(vector)\n",
    "media3200"
   ]
  },
  {
   "cell_type": "markdown",
   "id": "8b0f5792",
   "metadata": {},
   "source": [
    "Recordemos que para los datos de la base completa teniamos una correlacion de 0.753 por lo que en comparacion con las simulaciones bootstrap, en donde obtenemos una correlacion de 0.7331, el numero de 3200 simulaciones parece adecuado.\n",
    "Veamos que ocurre si aumentamos el numero de simulaciones a 4000"
   ]
  },
  {
   "cell_type": "code",
   "execution_count": 123,
   "id": "9b79fb81",
   "metadata": {},
   "outputs": [],
   "source": [
    "# Creamos un vector de 4000 0's \n",
    "vector2 = np.zeros(4000)\n",
    "#creamos el cilclo for para el llenado de las 3200 correlaciones a calcular\n",
    "for i in range(4000):\n",
    "#Seleccionamos aleatoriamente 15 escuelas\n",
    "    muestraboot = escuelas.sample(n=15,replace=True)[[\"escuela\"]]\n",
    "# unimos la base completa con el vector aleatorio de escuelas mediante un inner para que solo nos devuelva\n",
    "# la tabla interseccion, es decir, solo los valores seleccionados en la muestra aleatoria.\n",
    "    muestraboot = pd.merge(muestraboot, escuelas, how='inner', on=[\"escuela\"], sort=True)\n",
    "#calculamos la correlacion entre las variables de la muestra \n",
    "    aux, _ = spearmanr(muestraboot.LSAT, muestraboot.GPA)\n",
    "# y la guardamos en nuestro vector de correlaciones\n",
    "    vector2[i]=aux"
   ]
  },
  {
   "cell_type": "code",
   "execution_count": 126,
   "id": "e9a2a979",
   "metadata": {},
   "outputs": [
    {
     "data": {
      "text/plain": [
       "(array([  1.,   1.,   5.,   8.,  14.,  44.,  80., 138., 249., 391., 558.,\n",
       "        661., 672., 589., 372., 168.,  43.,   6.]),\n",
       " array([0.48536388, 0.50833552, 0.53130715, 0.55427878, 0.57725041,\n",
       "        0.60022205, 0.62319368, 0.64616531, 0.66913695, 0.69210858,\n",
       "        0.71508021, 0.73805184, 0.76102348, 0.78399511, 0.80696674,\n",
       "        0.82993838, 0.85291001, 0.87588164, 0.89885328]),\n",
       " <BarContainer object of 18 artists>)"
      ]
     },
     "execution_count": 126,
     "metadata": {},
     "output_type": "execute_result"
    },
    {
     "data": {
      "image/png": "[encoded data removed]",
      "text/plain": [
       "<Figure size 432x288 with 1 Axes>"
      ]
     },
     "metadata": {
      "needs_background": "light"
     },
     "output_type": "display_data"
    }
   ],
   "source": [
    "#Graficamos las correlaciones obtenidas a traves del metodo bootstrap\n",
    "plt.hist(vector2,18,ec=\"black\")"
   ]
  },
  {
   "cell_type": "code",
   "execution_count": 107,
   "id": "c0ba527f",
   "metadata": {},
   "outputs": [
    {
     "data": {
      "text/plain": [
       "0.728672469067507"
      ]
     },
     "execution_count": 107,
     "metadata": {},
     "output_type": "execute_result"
    }
   ],
   "source": [
    "# Pero, Cual es la media de las simulaciones?\n",
    "media4000 = np.mean(vector2)\n",
    "media4000"
   ]
  },
  {
   "cell_type": "markdown",
   "id": "061fc354",
   "metadata": {},
   "source": [
    "Notemos que el aumento en la precision para la media no resulta significante desde el punto de vista computacional, pues nos resulta mas costoso y las estimaciones son similares. \n",
    "Razon por la cual, nos quedamos con las 3200 simulaciones recomendadas para la aplicacion de bootstrap. Sin embargo, nuestro objetivo es comparar la precision mediante el analisis del error estandar, por lo que procedemos al calculo para ambos numeros de simulaciones."
   ]
  },
  {
   "cell_type": "code",
   "execution_count": 93,
   "id": "03bd25e4",
   "metadata": {},
   "outputs": [
    {
     "data": {
      "text/plain": [
       "0.12511379480725535"
      ]
     },
     "execution_count": 93,
     "metadata": {},
     "output_type": "execute_result"
    }
   ],
   "source": [
    "# Calcularemos primero la desviacion estandar para asi poder calcular el error estandar de la estimacion de la correlacion\n",
    "# Para las 3200 simulacions\n",
    "# Restamos a cada correlacion simulada la media de las 3200 correlaciones\n",
    "for i in range(len(vector)):\n",
    "    vector[i]=vector[i]-media3200\n",
    "# Elevamos las restas al cuadrado  \n",
    "for i in range(len(vector)):\n",
    "    vector[i]=vector[i]*vector[i]\n",
    "# Convertimos el vector en un objeto de numpy para poder sumar sus entradas y dividir entre n-1\n",
    "vector = np.array(vector)\n",
    "# Calculamos la desviacion estandar\n",
    "sd3200 = pow((vector.sum()/(len(vector)-1)),0.5)\n",
    "sd3200"
   ]
  },
  {
   "cell_type": "code",
   "execution_count": 94,
   "id": "413a51f4",
   "metadata": {},
   "outputs": [
    {
     "data": {
      "text/plain": [
       "0.0022117203182048127"
      ]
     },
     "execution_count": 94,
     "metadata": {},
     "output_type": "execute_result"
    }
   ],
   "source": [
    "# Y finalmente el error estandar para N = 3200 simulaciones, que no es mas que la desviacion entre la raiz del numero \n",
    "# de simulaciones\n",
    "SE3200 = sd3200/pow(3200,0.5)\n",
    "SE3200"
   ]
  },
  {
   "cell_type": "markdown",
   "id": "dd9c184e",
   "metadata": {},
   "source": [
    "Ahora, que pasa cuando hacemos 4000 simulaciones?"
   ]
  },
  {
   "cell_type": "code",
   "execution_count": 108,
   "id": "59210670",
   "metadata": {},
   "outputs": [
    {
     "data": {
      "text/plain": [
       "0.3996129522303085"
      ]
     },
     "execution_count": 108,
     "metadata": {},
     "output_type": "execute_result"
    }
   ],
   "source": [
    "# Calcularemos primero la desviacion estandar para asi poder calcular el error estandar de la estimacion de la correlacion\n",
    "# Para las 4000 simulacions\n",
    "# Restamos a cada correlacion simulada la media de las 4000 correlaciones\n",
    "for i in range(len(vector)):\n",
    "    vector2[i]=vector2[i]-media4000\n",
    "# Elevamos las restas al cuadrado  \n",
    "for i in range(len(vector)):\n",
    "    vector2[i]=vector2[i]*vector2[i]\n",
    "# Convertimos el vector en un objeto de numpy para poder sumar sus entradas y dividir entre n-1\n",
    "vector2 = np.array(vector2)\n",
    "# Calculamos la desviacion estandar\n",
    "sd4000 = pow((vector2.sum()/(len(vector2)-1)),0.5)\n",
    "sd4000"
   ]
  },
  {
   "cell_type": "code",
   "execution_count": 124,
   "id": "e79628f2",
   "metadata": {},
   "outputs": [
    {
     "data": {
      "text/plain": [
       "0.006318435557759192"
      ]
     },
     "execution_count": 124,
     "metadata": {},
     "output_type": "execute_result"
    }
   ],
   "source": [
    "# Y finalmente el error estandar para N = 4000 simulaciones, que no es mas que la desviacion entre la raiz del numero \n",
    "# de simulaciones\n",
    "SE4000 = sd4000/pow(4000,0.5)\n",
    "SE4000"
   ]
  },
  {
   "cell_type": "markdown",
   "id": "eb21382c",
   "metadata": {},
   "source": [
    "Entonces:\n",
    "Como sabemos, un valor del error estándar de la media de la correlacion más bajo indica una estimación más precisa de la media del estimador, mientras que una desviación estándar más grande se traducirá en un mayor error estándar de la media y una estimación menos precisa de la media de la correlacion, por lo que en este caso, notamos que el error estandar para las 3200 simulaciones es menor al de las 4000.\n",
    "\n",
    "#### Y en conclucion, el estimador bootstrap para una N=3200 simulaciones, es mas preciso."
   ]
  },
  {
   "cell_type": "markdown",
   "id": "95b8a9cf",
   "metadata": {},
   "source": [
    "### Ahora bien, que ocurrira si hacemos un remuestreo bootstrap para n = 82. "
   ]
  },
  {
   "cell_type": "code",
   "execution_count": 112,
   "id": "4173497e",
   "metadata": {},
   "outputs": [],
   "source": [
    "escuelas=pd.read_excel(\"data_schools.xlsx\")\n",
    "# Creamos un vector de 3200 0's esto es debido a que se recomienda un total de 3200 simulaciones\n",
    "vector = np.zeros(3200)\n",
    "#creamos el cilclo for para el llenado de las 3200 correlaciones a calcular\n",
    "for i in range(3200):\n",
    "#Seleccionamos aleatoriamente 82 escuelas con reemplazo\n",
    "    muestraboot = escuelas.sample(n=82,replace=True)[[\"escuela\"]]\n",
    "# unimos la base completa con el vector aleatorio de escuelas mediante un inner para que solo nos devuelva\n",
    "# la tabla interseccion, es decir, solo los valores seleccionados en la muestra aleatoria.\n",
    "    muestraboot = pd.merge(muestraboot, escuelas, how='inner', on=[\"escuela\"], sort=True)\n",
    "#calculamos la correlacion entre las variables de la muestra \n",
    "    aux, _ = spearmanr(muestraboot.LSAT, muestraboot.GPA)\n",
    "# y la guardamos en nuestro vector de correlaciones\n",
    "    vector[i]=aux"
   ]
  },
  {
   "cell_type": "code",
   "execution_count": 115,
   "id": "6e27a4ff",
   "metadata": {},
   "outputs": [
    {
     "data": {
      "text/plain": [
       "(array([  1.,   3.,   5.,  11.,  47., 104., 183., 330., 489., 666., 626.,\n",
       "        451., 224.,  52.,   8.]),\n",
       " array([0.49102928, 0.51848173, 0.54593418, 0.57338663, 0.60083908,\n",
       "        0.62829153, 0.65574398, 0.68319643, 0.71064888, 0.73810133,\n",
       "        0.76555378, 0.79300623, 0.82045868, 0.84791113, 0.87536358,\n",
       "        0.90281603]),\n",
       " <BarContainer object of 15 artists>)"
      ]
     },
     "execution_count": 115,
     "metadata": {},
     "output_type": "execute_result"
    },
    {
     "data": {
      "image/png": "[encoded data removed]",
      "text/plain": [
       "<Figure size 432x288 with 1 Axes>"
      ]
     },
     "metadata": {
      "needs_background": "light"
     },
     "output_type": "display_data"
    }
   ],
   "source": [
    "#Graficamos las correlaciones obtenidas a traves del metodo bootstrap\n",
    "plt.hist(vector,15,ec=\"black\")"
   ]
  },
  {
   "cell_type": "code",
   "execution_count": 114,
   "id": "396cc77d",
   "metadata": {},
   "outputs": [
    {
     "data": {
      "text/plain": [
       "0.7516728765696925"
      ]
     },
     "execution_count": 114,
     "metadata": {},
     "output_type": "execute_result"
    }
   ],
   "source": [
    "# Pero, Cual es la media de las simulaciones?\n",
    "media3200 = np.mean(vector)\n",
    "media3200"
   ]
  },
  {
   "cell_type": "code",
   "execution_count": 116,
   "id": "d42781f9",
   "metadata": {},
   "outputs": [
    {
     "data": {
      "text/plain": [
       "0.0538761891163579"
      ]
     },
     "execution_count": 116,
     "metadata": {},
     "output_type": "execute_result"
    }
   ],
   "source": [
    "# Calcularemos primero la desviacion estandar para asi poder calcular el error estandar de la estimacion de la correlacion\n",
    "# Para las 3200 simulacions\n",
    "# Restamos a cada correlacion simulada la media de las 3200 correlaciones\n",
    "for i in range(len(vector)):\n",
    "    vector[i]=vector[i]-media3200\n",
    "# Elevamos las restas al cuadrado  \n",
    "for i in range(len(vector)):\n",
    "    vector[i]=vector[i]*vector[i]\n",
    "# Convertimos el vector en un objeto de numpy para poder sumar sus entradas y dividir entre n-1\n",
    "vector = np.array(vector)\n",
    "# Calculamos la desviacion estandar\n",
    "sd3200 = pow((vector.sum()/(len(vector)-1)),0.5)\n",
    "sd3200"
   ]
  },
  {
   "cell_type": "code",
   "execution_count": 117,
   "id": "8da3fb10",
   "metadata": {},
   "outputs": [
    {
     "data": {
      "text/plain": [
       "0.0009524054667166385"
      ]
     },
     "execution_count": 117,
     "metadata": {},
     "output_type": "execute_result"
    }
   ],
   "source": [
    "# Y finalmente el error estandar para N = 3200 simulaciones, que no es mas que la desviacion entre la raiz del numero \n",
    "# de simulaciones\n",
    "SE3200 = sd3200/pow(3200,0.5)\n",
    "SE3200"
   ]
  },
  {
   "cell_type": "markdown",
   "id": "15411c41",
   "metadata": {},
   "source": [
    "Mientras que para 4000 simulaciones:"
   ]
  },
  {
   "cell_type": "code",
   "execution_count": 137,
   "id": "36307239",
   "metadata": {},
   "outputs": [],
   "source": [
    "# Creamos un vector de 4000 0's \n",
    "vector2 = np.zeros(4000)\n",
    "#creamos el cilclo for para el llenado de las 3200 correlaciones a calcular\n",
    "for i in range(4000):\n",
    "#Seleccionamos aleatoriamente 15 escuelas\n",
    "    muestraboot = escuelas.sample(n=82,replace=True)[[\"escuela\"]]\n",
    "# unimos la base completa con el vector aleatorio de escuelas mediante un inner para que solo nos devuelva\n",
    "# la tabla interseccion, es decir, solo los valores seleccionados en la muestra aleatoria.\n",
    "    muestraboot = pd.merge(muestraboot, escuelas, how='inner', on=[\"escuela\"], sort=True)\n",
    "#calculamos la correlacion entre las variables de la muestra \n",
    "    aux, _ = spearmanr(muestraboot.LSAT, muestraboot.GPA)\n",
    "# y la guardamos en nuestro vector de correlaciones\n",
    "    vector2[i]=aux"
   ]
  },
  {
   "cell_type": "code",
   "execution_count": 138,
   "id": "ce581fb4",
   "metadata": {},
   "outputs": [
    {
     "data": {
      "text/plain": [
       "(array([   3.,    5.,   46.,  115.,  383.,  750., 1172., 1043.,  423.,\n",
       "          60.]),\n",
       " array([0.49082133, 0.53095402, 0.57108671, 0.6112194 , 0.65135209,\n",
       "        0.69148478, 0.73161748, 0.77175017, 0.81188286, 0.85201555,\n",
       "        0.89214824]),\n",
       " <BarContainer object of 10 artists>)"
      ]
     },
     "execution_count": 138,
     "metadata": {},
     "output_type": "execute_result"
    },
    {
     "data": {
      "image/png": "[encoded data removed]",
      "text/plain": [
       "<Figure size 432x288 with 1 Axes>"
      ]
     },
     "metadata": {
      "needs_background": "light"
     },
     "output_type": "display_data"
    }
   ],
   "source": [
    "#Graficamos las correlaciones obtenidas a traves del metodo bootstrap\n",
    "plt.hist(vector2,10,ec=\"black\")"
   ]
  },
  {
   "cell_type": "code",
   "execution_count": 139,
   "id": "facd3a48",
   "metadata": {},
   "outputs": [
    {
     "data": {
      "text/plain": [
       "0.7519281623268328"
      ]
     },
     "execution_count": 139,
     "metadata": {},
     "output_type": "execute_result"
    }
   ],
   "source": [
    "# Pero, Cual es la media de las simulaciones?\n",
    "media4000 = np.mean(vector2)\n",
    "media4000"
   ]
  },
  {
   "cell_type": "code",
   "execution_count": 140,
   "id": "236a61cc",
   "metadata": {},
   "outputs": [
    {
     "data": {
      "text/plain": [
       "0.39111957697102523"
      ]
     },
     "execution_count": 140,
     "metadata": {},
     "output_type": "execute_result"
    }
   ],
   "source": [
    "# Calcularemos primero la desviacion estandar para asi poder calcular el error estandar de la estimacion de la correlacion\n",
    "# Para las 4000 simulacions\n",
    "# Restamos a cada correlacion simulada la media de las 4000 correlaciones\n",
    "for i in range(len(vector)):\n",
    "    vector2[i]=vector2[i]-media4000\n",
    "# Elevamos las restas al cuadrado  \n",
    "for i in range(len(vector)):\n",
    "    vector2[i]=vector2[i]*vector2[i]\n",
    "# Convertimos el vector en un objeto de numpy para poder sumar sus entradas y dividir entre n-1\n",
    "vector2 = np.array(vector2)\n",
    "# Calculamos la desviacion estandar\n",
    "sd4000 = pow((vector2.sum()/(len(vector2)-1)),0.5)\n",
    "sd4000"
   ]
  },
  {
   "cell_type": "code",
   "execution_count": 141,
   "id": "86a445f2",
   "metadata": {},
   "outputs": [
    {
     "data": {
      "text/plain": [
       "0.0061841435035499"
      ]
     },
     "execution_count": 141,
     "metadata": {},
     "output_type": "execute_result"
    }
   ],
   "source": [
    "# Y finalmente el error estandar para N = 4000 simulaciones, que no es mas que la desviacion entre la raiz del numero \n",
    "# de simulaciones\n",
    "SE4000 = sd4000/pow(4000,0.5)\n",
    "SE4000"
   ]
  },
  {
   "cell_type": "markdown",
   "id": "ac5ed914",
   "metadata": {},
   "source": [
    "Nuevamente,notamos que el error estandar para las 3200 simulaciones es menor al de las 4000. Y en conclusión, el estimador bootstrap para una N=3200 simulaciones, es mas preciso.\n",
    "Sin embargo, hemos de notar que cuando utilizamos un remuestreo con la misma cantidad del numero de observaciones, la estimacion de la media del estimador de la correlacion se vuelve mas preciso, en ambos casos acercandose a 0.753 que es el verdadero valor de la correlación de nuestra muestra de escuelas. \n",
    "\n",
    "#### En conclusión, es preferible realizar un numero de 3200 simulaciones tomando un remuestreo de un tamaño igual a la muestra o cuanto menos aproximado. Sin embargo, cabe mencionar que cuando el tamaño del remuestreo fue inferior, con n=15 también obteníamos una buena precisión para estimar la media de la correlación. Notemos así, que una disminucion en el tamaño del remuestreo implica un aumento en el error estandar del estimador, por lo que conforme aumenta el tamaño del remuestreo, ganaremos una mayor precisión en el cálculo de nuestros estimadores."
   ]
  }
 ],
 "metadata": {
  "kernelspec": {
   "display_name": "Python 3",
   "language": "python",
   "name": "python3"
  },
  "language_info": {
   "codemirror_mode": {
    "name": "ipython",
    "version": 3
   },
   "file_extension": ".py",
   "mimetype": "text/x-python",
   "name": "python",
   "nbconvert_exporter": "python",
   "pygments_lexer": "ipython3",
   "version": "3.8.8"
  }
 },
 "nbformat": 4,
 "nbformat_minor": 5
}
